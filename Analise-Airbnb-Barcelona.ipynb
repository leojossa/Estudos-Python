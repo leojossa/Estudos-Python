import pandas as pd
file = 'http://data.insideairbnb.com/spain/catalonia/barcelona/2020-05-11/visualisations/listings.csv'
df = pd.read_csv(file)
df.head(5)
